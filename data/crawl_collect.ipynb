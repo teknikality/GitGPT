{
 "cells": [
  {
   "cell_type": "code",
   "execution_count": null,
   "metadata": {},
   "outputs": [],
   "source": [
    "import json\n",
    "import requests\n",
    "from bs4 import BeautifulSoup\n",
    "from urllib.parse import urljoin\n",
    "import time\n",
    "\n",
    "base_url = 'https://handbook.gitlab.com'\n",
    "visited_links = set()\n",
    "\n",
    "# List to store all page data\n",
    "all_data = []\n",
    "\n",
    "def extract_and_store_page(url):\n",
    "    \"\"\"Fetch the content of a single page and store it in the JSON list.\"\"\"\n",
    "    print(f\"Crawling: {url}\")\n",
    "    \n",
    "    response = requests.get(url)\n",
    "    soup = BeautifulSoup(response.text, 'html.parser')\n",
    "    \n",
    "    # Extract title (h1 or h2 tags)\n",
    "    title = soup.find(['h1', 'h2']).get_text() if soup.find(['h1', 'h2']) else \"No Title\"\n",
    "    \n",
    "    # Extract content (all paragraph text)\n",
    "    content = \" \".join([p.get_text() for p in soup.find_all('p')])\n",
    "    \n",
    "    # Store the data in a dictionary and append to the list\n",
    "    page_data = {\n",
    "        \"title\": title,\n",
    "        \"url\": url,\n",
    "        \"content\": content\n",
    "    }\n",
    "    all_data.append(page_data)\n",
    "    \n",
    "    # Sleep to avoid rate limiting issues (optional, adjust as needed)\n",
    "    time.sleep(1)\n",
    "\n",
    "def crawl_main_page():\n",
    "    \"\"\"Crawl the main page and extract all internal links, then crawl each of them.\"\"\"\n",
    "    print(f\"Crawling main page: {base_url}\")\n",
    "    \n",
    "    response = requests.get(base_url)\n",
    "    soup = BeautifulSoup(response.text, 'html.parser')\n",
    "    \n",
    "    # Find all links on the main page\n",
    "    for link in soup.find_all('a', href=True):\n",
    "        href = link['href']\n",
    "        full_url = urljoin(base_url, href)  # Handle relative URLs\n",
    "        \n",
    "        # Only consider internal links that are part of the main handbook\n",
    "        if base_url in full_url and full_url not in visited_links:\n",
    "            visited_links.add(full_url)\n",
    "            extract_and_store_page(full_url)\n",
    "    \n",
    "    # Save collected data to a JSON file\n",
    "    with open('gitlab_handbook_data.json', 'w') as json_file:\n",
    "        json.dump(all_data, json_file, indent=4)\n",
    "\n",
    "# Start the crawling process\n",
    "crawl_main_page()\n"
   ]
  },
  {
   "cell_type": "code",
   "execution_count": null,
   "metadata": {},
   "outputs": [],
   "source": []
  }
 ],
 "metadata": {
  "kernelspec": {
   "display_name": "base",
   "language": "python",
   "name": "python3"
  },
  "language_info": {
   "codemirror_mode": {
    "name": "ipython",
    "version": 3
   },
   "file_extension": ".py",
   "mimetype": "text/x-python",
   "name": "python",
   "nbconvert_exporter": "python",
   "pygments_lexer": "ipython3",
   "version": "3.10.14"
  }
 },
 "nbformat": 4,
 "nbformat_minor": 2
}
