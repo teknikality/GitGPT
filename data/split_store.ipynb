{
 "cells": [
  {
   "cell_type": "code",
   "execution_count": 3,
   "metadata": {},
   "outputs": [],
   "source": [
    "from langchain.text_splitter import RecursiveCharacterTextSplitter\n",
    "import json\n",
    "\n",
    "def process_data():\n",
    "    all_chunks = []\n",
    "    with open(\"gitlab_handbook_data.json\",\"r\") as f:\n",
    "        data = json.load(f)\n",
    "        for item in data :\n",
    "            content=item[\"content\"]\n",
    "            url = item[\"url\"]\n",
    "            title=item[\"title\"]\n",
    "            text_splitter = RecursiveCharacterTextSplitter(\n",
    "                chunk_size=1000,\n",
    "                chunk_overlap=150,\n",
    "                length_function=len,\n",
    "                add_start_index=True,\n",
    "            )\n",
    "            chunks = text_splitter.create_documents([content], metadatas=[{\"url\": url, \"title\": title}])\n",
    "            all_chunks.extend(chunks)\n",
    "    return all_chunks      \n",
    "\n"
   ]
  },
  {
   "cell_type": "code",
   "execution_count": 4,
   "metadata": {},
   "outputs": [],
   "source": [
    "all_chunks = process_data()"
   ]
  },
  {
   "cell_type": "code",
   "execution_count": 5,
   "metadata": {},
   "outputs": [
    {
     "name": "stdout",
     "output_type": "stream",
     "text": [
      "1795\n"
     ]
    }
   ],
   "source": [
    "print(len(all_chunks))"
   ]
  },
  {
   "cell_type": "code",
   "execution_count": 7,
   "metadata": {},
   "outputs": [],
   "source": [
    "import os\n",
    "from pinecone import Pinecone\n",
    "from sentence_transformers import SentenceTransformer\n",
    "from dotenv import load_dotenv\n",
    "load_dotenv()\n",
    "pc = Pinecone(api_key=os.getenv(\"PINECONE_API_KEY\"))\n",
    "index = pc.Index(\"test-git\")\n",
    "\n",
    "embed_model = SentenceTransformer('multi-qa-MiniLM-L6-cos-v1')\n",
    "\n",
    "\n",
    "def store_in_pinecone(chunks):\n",
    "    for chunk in chunks :\n",
    "        embedding = embed_model.encode(chunk.page_content).tolist()\n",
    "        chunk_id = f\"{chunk.metadata['url']}_{chunk.metadata.get('start_index', 0)}\"\n",
    "        metadata = {\n",
    "            'text': chunk.page_content,\n",
    "            'url': chunk.metadata['url'],\n",
    "            'title':chunk.metadata['title']\n",
    "        }\n",
    "        index.upsert([(chunk_id,embedding,metadata)])"
   ]
  },
  {
   "cell_type": "code",
   "execution_count": 9,
   "metadata": {},
   "outputs": [],
   "source": [
    "all_chunks= process_data()\n",
    "store_in_pinecone(all_chunks)"
   ]
  },
  {
   "cell_type": "code",
   "execution_count": null,
   "metadata": {},
   "outputs": [],
   "source": []
  }
 ],
 "metadata": {
  "kernelspec": {
   "display_name": "gvenv",
   "language": "python",
   "name": "python3"
  },
  "language_info": {
   "codemirror_mode": {
    "name": "ipython",
    "version": 3
   },
   "file_extension": ".py",
   "mimetype": "text/x-python",
   "name": "python",
   "nbconvert_exporter": "python",
   "pygments_lexer": "ipython3",
   "version": "3.10.14"
  }
 },
 "nbformat": 4,
 "nbformat_minor": 2
}
